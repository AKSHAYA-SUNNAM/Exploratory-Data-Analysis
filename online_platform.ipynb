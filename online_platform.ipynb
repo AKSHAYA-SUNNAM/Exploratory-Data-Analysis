{
 "cells": [
  {
   "cell_type": "markdown",
   "id": "9f7d8465",
   "metadata": {
    "vscode": {
     "languageId": "plaintext"
    }
   },
   "source": [
    "ONLINE COURSE PLATFORM- USER ENGAGEMENT ANALYSIS"
   ]
  },
  {
   "cell_type": "code",
   "execution_count": null,
   "id": "b3552e20",
   "metadata": {
    "vscode": {
     "languageId": "plaintext"
    }
   },
   "outputs": [],
   "source": [
    "1.\n",
    "#no of missing values per column\n",
    "df = pd.read_csv('user_data.csv', delimiter='\\t')\n",
    "print(\"Missing values per column:\\n\", df.isnull().sum())\n",
    "\n",
    "#no of duplicate records\n",
    "print(\"Duplicate records:\", df.duplicated().sum())"
   ]
  },
  {
   "cell_type": "code",
   "execution_count": null,
   "id": "ba6e0af0",
   "metadata": {
    "vscode": {
     "languageId": "plaintext"
    }
   },
   "outputs": [],
   "source": [
    "2.\n",
    "#fill missing courseprogress with average progress per coursecategory\n",
    "df['courseprogress'] = df.groupby('coursecategory')['courseprogress'].transform(lambda x: x.fillna(x.mean()))\n",
    "\n",
    "#fill missing gender with mode\n",
    "df['Gender'] = df['Gender'].fillna(df['Gender'].mode()[0])\n",
    "\n",
    "#drop rows where LastLoginDaysAgo is missing\n",
    "df = df.dropna(subset=['LastLoginDaysAgo'])\n",
    "\n",
    "#fill missing location with 'Unknown'\n",
    "df['Location'] = df['Location'].fillna('Unknown')\n"
   ]
  },
  {
   "cell_type": "code",
   "execution_count": null,
   "id": "edb8b769",
   "metadata": {
    "vscode": {
     "languageId": "plaintext"
    }
   },
   "outputs": [],
   "source": [
    "3.\n",
    "#drop fully duplicated rows based on all columns\n",
    "df = df.drop_duplicates()"
   ]
  },
  {
   "cell_type": "code",
   "execution_count": null,
   "id": "db4e6ed9",
   "metadata": {
    "vscode": {
     "languageId": "plaintext"
    }
   },
   "outputs": [],
   "source": [
    "4\n",
    "#using LabelEncoding for: Gender, EnrolledPlan\n",
    "from sklearn.preprocessing import LabelEncoder\n",
    "label_encoder = LabelEncoder()\n",
    "df['Gender_encoded'] = label_encoder.fit_transform(df['Gender'])\n",
    "df['EnrolledPlan_encoded'] = label_encoder.fit_transform(df['EnrolledPlan'])\n",
    "\n",
    "#use get_dummies() (with drop_first=True) for: Location, CourseCategory\n",
    "df = pd.get_dummies(df, columns=['Location', 'CourseCategory'], drop_first=True)"
   ]
  },
  {
   "cell_type": "code",
   "execution_count": null,
   "id": "db004e79",
   "metadata": {
    "vscode": {
     "languageId": "plaintext"
    }
   },
   "outputs": [],
   "source": [
    "Part 2:Data Exploration Tasks\n",
    "\n",
    "# Basic summary statistics\n",
    "print(df.describe())\n",
    "\n",
    "# Mean and median age\n",
    "print(\"Mean Age:\", df['Age'].mean())\n",
    "print(\"Median Age:\", df['Age'].median())\n",
    "\n",
    "# Standard deviation of CourseProgress\n",
    "print(\"Std Dev of CourseProgress:\", df['CourseProgress'].std())\n",
    "\n",
    "# Users who completed more than 90% of course\n",
    "completed = df[df['CourseProgress'] > 90]\n",
    "print(\"Users who completed >90%:\", completed.shape[0])"
   ]
  },
  {
   "cell_type": "code",
   "execution_count": null,
   "id": "e3295a59",
   "metadata": {
    "vscode": {
     "languageId": "plaintext"
    }
   },
   "outputs": [],
   "source": [
    "#Basic Analysis\n",
    "\n",
    "# Unique users by CourseCategory\n",
    "print(df.groupby('CourseCategory')['UserID'].nunique())\n",
    "\n",
    "# Average CourseProgress by EnrolledPlan\n",
    "print(df.groupby('EnrolledPlan')['CourseProgress'].mean())\n",
    "\n",
    "# Gender distribution\n",
    "print(df['Gender'].value_counts())\n"
   ]
  },
  {
   "cell_type": "code",
   "execution_count": null,
   "id": "b2e9c181",
   "metadata": {
    "vscode": {
     "languageId": "plaintext"
    }
   },
   "outputs": [],
   "source": [
    "#Part 3: Filtering and Insights\n",
    "\n",
    "#conditional Filtering\n",
    "\n",
    "# Students aged < 30 with CourseProgress ≥ 85\n",
    "students_high_progress = df[(df['Age'] < 30) & (df['CourseProgress'] >= 85)]\n",
    "\n",
    "# Premium users who haven't logged in in the last 5+ days\n",
    "inactive_premium = df[(df['EnrolledPlan'] == 'Premium') & (df['LastLoginDaysAgo'] > 5)]\n",
    "\n",
    "# Students in 'AI' category with CourseProgress < 75\n",
    "ai_low_progress = df[(df['CourseCategory'] == 'AI') & (df['CourseProgress'] < 75)]\n",
    "\n"
   ]
  },
  {
   "cell_type": "code",
   "execution_count": null,
   "id": "c845b728",
   "metadata": {
    "vscode": {
     "languageId": "plaintext"
    }
   },
   "outputs": [],
   "source": [
    "#sorting\n",
    "\n",
    "# Sort by CourseProgress (descending)\n",
    "sorted_by_progress = df.sort_values(by='CourseProgress', ascending=False)\n",
    "\n",
    "# Sort by LastLoginDaysAgo (ascending: least days ago = most recent)\n",
    "recent_users = df.sort_values(by='LastLoginDaysAgo')\n"
   ]
  },
  {
   "cell_type": "code",
   "execution_count": null,
   "id": "5b78bf6d",
   "metadata": {
    "vscode": {
     "languageId": "plaintext"
    }
   },
   "outputs": [],
   "source": [
    "# Top performers\n",
    "\n",
    "# Top 5 users with highest CourseProgress\n",
    "top_5_users = df.sort_values(by='CourseProgress', ascending=False).head(5)\n"
   ]
  }
 ],
 "metadata": {
  "language_info": {
   "name": "python"
  }
 },
 "nbformat": 4,
 "nbformat_minor": 5
}
