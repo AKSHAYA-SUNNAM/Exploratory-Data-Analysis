{
 "cells": [
  {
   "cell_type": "markdown",
   "id": "42aaf148",
   "metadata": {
    "vscode": {
     "languageId": "plaintext"
    }
   },
   "source": [
    "HEALTH AND FITNESS APP- USER ACTIVIT DATA"
   ]
  },
  {
   "cell_type": "code",
   "execution_count": null,
   "id": "6ef793ff",
   "metadata": {
    "vscode": {
     "languageId": "plaintext"
    }
   },
   "outputs": [],
   "source": [
    "import pandas as pd\n",
    "import numpy as np\n",
    "df = pd.read_csv('fitness_user_data.csv', delimiter='\\t')"
   ]
  },
  {
   "cell_type": "code",
   "execution_count": null,
   "id": "1e1923fe",
   "metadata": {
    "vscode": {
     "languageId": "plaintext"
    }
   },
   "outputs": [],
   "source": [
    "#part 1: Data PreProcessing Tasks\n",
    "\n",
    "#Missing value handling:\n",
    "\n",
    "# Fill WorkoutType with mode\n",
    "df['WorkoutType'].fillna(df['WorkoutType'].mode()[0], inplace=True)\n",
    "\n",
    "# Fill CaloriesBurned with median per WorkoutType\n",
    "df['CaloriesBurned'] = df.groupby('WorkoutType')['CaloriesBurned'].transform(lambda x: x.fillna(x.median()))\n",
    "\n",
    "# Drop EngagementScore missing rows\n",
    "df.dropna(subset=['EngagementScore'], inplace=True)\n",
    "\n",
    "# Fill missing City with \"Unknown\"\n",
    "df['City'].fillna('Unknown', inplace=True)\n"
   ]
  },
  {
   "cell_type": "code",
   "execution_count": null,
   "id": "fbb6692e",
   "metadata": {
    "vscode": {
     "languageId": "plaintext"
    }
   },
   "outputs": [],
   "source": [
    "#Duplicate Removal\n",
    "df.drop_duplicates(inplace=True)"
   ]
  },
  {
   "cell_type": "code",
   "execution_count": null,
   "id": "ce7bbbc4",
   "metadata": {
    "vscode": {
     "languageId": "plaintext"
    }
   },
   "outputs": [],
   "source": [
    "#Encoding\n",
    "\n",
    "from sklearn.preprocessing import LabelEncoder\n",
    "le = LabelEncoder()\n",
    "df['Gender'] = le.fit_transform(df['Gender'])\n",
    "df['SubscriptionType'] = le.fit_transform(df['SubscriptionType'])\n",
    "\n",
    "# One-hot encode WorkoutType and City\n",
    "df = pd.get_dummies(df, columns=['WorkoutType', 'City'], drop_first=True)"
   ]
  },
  {
   "cell_type": "code",
   "execution_count": null,
   "id": "b15ac61f",
   "metadata": {
    "vscode": {
     "languageId": "plaintext"
    }
   },
   "outputs": [],
   "source": [
    "#Part 2: Data Exploration Tasks\n",
    "\n",
    "#A. Basic Summary Stats\n",
    "\n",
    "#use decribe() to view: mean, median of age, caloriesburned, and engagementscore\n",
    "print(df[['Age', 'CaloriesBurned', 'EngagementScore']].describe())\n",
    "\n",
    "#max and min caloriesburned\n",
    "print(\"Max CaloriesBurned:\", df['CaloriesBurned'].max())\n",
    "print(\"Min CaloriesBurned:\", df['CaloriesBurned'].min())\n",
    "\n",
    "#count unique values using unique() for each column\n",
    "print(df.nunique())"
   ]
  },
  {
   "cell_type": "code",
   "execution_count": null,
   "id": "5b04f901",
   "metadata": {
    "vscode": {
     "languageId": "plaintext"
    }
   },
   "outputs": [],
   "source": [
    "#B. Basic Analysis\n",
    "\n",
    "#use values_count() :\n",
    "\n",
    "# Most common WorkoutType\n",
    "print(df['WorkoutType'].value_counts())\n",
    "\n",
    "# Most subscribed SubscriptionType\n",
    "print(df['SubscriptionType'].value_counts())\n",
    "\n",
    "# Avg CaloriesBurned by WorkoutType\n",
    "print(df.groupby('WorkoutType')['CaloriesBurned'].mean())\n",
    "\n",
    "# Gender-based average EngagementScore\n",
    "print(df.groupby('Gender')['EngagementScore'].mean())\n",
    "\n",
    "# Gender counts\n",
    "print(df['Gender'].value_counts())\n"
   ]
  },
  {
   "cell_type": "code",
   "execution_count": null,
   "id": "83f57fbb",
   "metadata": {
    "vscode": {
     "languageId": "plaintext"
    }
   },
   "outputs": [],
   "source": [
    "#Part 3: Filtering and Insights\n",
    "\n",
    "# Users with high Calories and Engagement\n",
    "filtered1 = df[(df['CaloriesBurned'] > 500) & (df['EngagementScore'] > 8)]\n",
    "\n",
    "# Delhi, Cardio, Premium\n",
    "filtered2 = df[(df['City'] == 'Delhi') & (df['WorkoutType'] == 'Cardio') & (df['SubscriptionType'] == 'Premium')]\n",
    "\n",
    "# Users < 25 and EngagementScore <= 6\n",
    "filtered3 = df[(df['Age'] < 25) & (df['EngagementScore'] <= 6)]\n",
    "\n",
    "# Sort by CaloriesBurned\n",
    "sorted_by_calories = df.sort_values(by='CaloriesBurned', ascending=False)\n",
    "\n",
    "# Top 5 by EngagementScore\n",
    "top5_engaged = df.sort_values(by='EngagementScore', ascending=False).head(5)\n"
   ]
  }
 ],
 "metadata": {
  "language_info": {
   "name": "python"
  }
 },
 "nbformat": 4,
 "nbformat_minor": 5
}
